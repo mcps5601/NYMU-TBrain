{
 "cells": [
  {
   "cell_type": "code",
   "execution_count": 6,
   "metadata": {},
   "outputs": [],
   "source": [
    "import pandas as pd\n",
    "import os"
   ]
  },
  {
   "cell_type": "code",
   "execution_count": 41,
   "metadata": {
    "scrolled": true
   },
   "outputs": [],
   "source": [
    "class DataExtractor:\n",
    "    df_order = pd.read_csv(\"./dataset/order.csv\")\n",
    "    df_group = pd.read_csv(\"./dataset/group.csv\")\n",
    "    df_airline = pd.read_csv(\"./dataset/airline.csv\")\n",
    "    df_day_schedule = pd.read_csv(\"./dataset/day_schedule.csv\")\n",
    "    \n",
    "    def extract(self, df_input): #input dataframe may be train or test set       \n",
    "        \n",
    "        # join \"training set\" and \"order\"\n",
    "        # 新增欄位: order_id / group_id / order_date / source_1 / source_2 / Unit / people_amount \n",
    "        df_target = pd.merge(df_input, df_order, how='left', on='order_id')\n",
    "        \n",
    "        # join \"group\" on group id\n",
    "        # 新增欄位: sub_line / area days / begin_date / Price / product_name / promotion_prog \n",
    "        \"\"\"TODO\"\"\"\n",
    "        \n",
    "        # join \"cache_map\" on promotion_prog內之url\n",
    "        # 新增欄位: filename (這邊先存檔案名稱就好，之後有需要做圖像辨別再imread就行)\n",
    "        \"\"\"TODO\"\"\"\n",
    "        \n",
    "        # join \"airline\" on group id\n",
    "        # 新增欄位: go_back/fly_time/src_airport/arrive_time/dst_airport\n",
    "        \"\"\"TODO\"\"\"\n",
    "        \n",
    "        # join \"day_schedule\" on group id\n",
    "        # 新增欄位: \n",
    "        ###有兩個想法，\n",
    "        ###1.用單一欄位直接物件包起來，如{day1:台北, day2:義大利.....}\n",
    "        ###2.開夠多欄位(比如說30欄)，day1 / day2 / day3 ...../ day30，每欄位都可以存當天的string\n",
    "        ###   (但這個要是遇到超過30天的行程就會出問題，大家討論看看)\n",
    "        \"\"\"TODO\"\"\"\n",
    "        \n",
    "        return df_target\n",
    "\n",
    "    "
   ]
  },
  {
   "cell_type": "code",
   "execution_count": 47,
   "metadata": {},
   "outputs": [],
   "source": [
    "#initiate object\n",
    "dataExtractor = DataExtractor()\n"
   ]
  },
  {
   "cell_type": "code",
   "execution_count": 48,
   "metadata": {},
   "outputs": [],
   "source": [
    "#處理train-set並儲存至./training-set-raw-feature.csv\n",
    "df_train = pd.read_csv(\"./dataset/training-set.csv\")\n",
    "dataExtractor.extract(df_train).to_csv(\"./training-set-raw-feature.csv\", index =False)"
   ]
  },
  {
   "cell_type": "code",
   "execution_count": null,
   "metadata": {},
   "outputs": [],
   "source": [
    "#處理test-set並儲存至./training-set-raw-feature.csv\n",
    "df_test = pd.read_csv(\"./dataset/test-set.csv\")\n",
    "dataExtractor.extract(df_train).to_csv(\"./test-set-raw-feature.csv\", index =False)"
   ]
  }
 ],
 "metadata": {
  "kernelspec": {
   "display_name": "Python 3",
   "language": "python",
   "name": "python3"
  },
  "language_info": {
   "codemirror_mode": {
    "name": "ipython",
    "version": 3
   },
   "file_extension": ".py",
   "mimetype": "text/x-python",
   "name": "python",
   "nbconvert_exporter": "python",
   "pygments_lexer": "ipython3",
   "version": "3.6.5"
  }
 },
 "nbformat": 4,
 "nbformat_minor": 2
}
